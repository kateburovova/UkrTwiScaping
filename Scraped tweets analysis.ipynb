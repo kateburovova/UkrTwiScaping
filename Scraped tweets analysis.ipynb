{
 "cells": [
  {
   "cell_type": "code",
   "execution_count": 1,
   "outputs": [],
   "source": [
    "import pandas as pd"
   ],
   "metadata": {
    "collapsed": false,
    "pycharm": {
     "name": "#%%\n"
    }
   }
  },
  {
   "cell_type": "code",
   "execution_count": 9,
   "outputs": [],
   "source": [
    "tweets = pd.read_csv('data/tweets.csv', header=None)"
   ],
   "metadata": {
    "collapsed": false,
    "pycharm": {
     "name": "#%%\n"
    }
   }
  },
  {
   "cell_type": "code",
   "execution_count": 11,
   "outputs": [
    {
     "data": {
      "text/plain": "                    0                    1                         2   \\\n0  1557356517166301188  1557354587291619330  2022-08-10 16:21:42 EEST   \n1  1557356395351232513  1557303795155075072  2022-08-10 16:21:13 EEST   \n2  1557356366108524545  1557354632044748807  2022-08-10 16:21:06 EEST   \n3  1557356284063760385  1557356284063760385  2022-08-10 16:20:47 EEST   \n4  1557356122264190977  1557356122264190977  2022-08-10 16:20:08 EEST   \n5  1557356121492525056  1557356121492525056  2022-08-10 16:20:08 EEST   \n6  1557356106778828800  1557300891786567681  2022-08-10 16:20:04 EEST   \n7  1557356098121879552  1557008845846757376  2022-08-10 16:20:02 EEST   \n8  1557355989480898560  1557002414699470849  2022-08-10 16:19:36 EEST   \n9  1557355981608189955  1557351055389650944  2022-08-10 16:19:34 EEST   \n\n           3         4    5                    6               7   \\\n0  2022-08-10  16:21:42  300            494057016       barbosiki   \n1  2022-08-10  16:21:13  300            627130715      alloizovic   \n2  2022-08-10  16:21:06  300  1509905263578525718        _boffin_   \n3  2022-08-10  16:20:47  300           1377429469       meilinjie   \n4  2022-08-10  16:20:08  300  1270581277779988483     marxoid1848   \n5  2022-08-10  16:20:08  300           2233213154    baldgivitaly   \n6  2022-08-10  16:20:04  300            254039945        unsergey   \n7  2022-08-10  16:20:02  300           3031355063       krizalium   \n8  2022-08-10  16:19:36  300  1498229249882443777   chechen_heart   \n9  2022-08-10  16:19:34  300  1330884405754257410  decayingoldone   \n\n                                           8   9   ...  26  27  28  29  30  \\\n0                                       Ксеня NaN  ... NaN NaN NaN NaN NaN   \n1                                 buzzzzzzzz! NaN  ... NaN NaN NaN NaN NaN   \n2                                      Boffin NaN  ... NaN NaN NaN NaN NaN   \n3                                   🌻girasol🌻 NaN  ... NaN NaN NaN NaN NaN   \n4                                          🇬🇧 NaN  ... NaN NaN NaN NaN NaN   \n5                              Виталий Балджи NaN  ... NaN NaN NaN NaN NaN   \n6                                 Zadunaiskiy NaN  ... NaN NaN NaN NaN NaN   \n7                                   Krizalium NaN  ... NaN NaN NaN NaN NaN   \n8                             FreeChechnyaNow NaN  ... NaN NaN NaN NaN NaN   \n9  🇺🇦lord mara van redrot (русня від‘їбись)🇺🇦 NaN  ... NaN NaN NaN NaN NaN   \n\n                                                  31  32  33  34  35  \n0  [{'screen_name': 'saver_ag', 'name': 'внутрішн... NaN NaN NaN NaN  \n1  [{'screen_name': 'vodenergetik', 'name': 'Алён... NaN NaN NaN NaN  \n2  [{'screen_name': 'MelaniePodolyak', 'name': 'M... NaN NaN NaN NaN  \n3                                                 [] NaN NaN NaN NaN  \n4                                                 [] NaN NaN NaN NaN  \n5                                                 [] NaN NaN NaN NaN  \n6  [{'screen_name': 'buch10_04', 'name': '10 квіт... NaN NaN NaN NaN  \n7  [{'screen_name': 'OlgaEvans46', 'name': 'Olga'... NaN NaN NaN NaN  \n8  [{'screen_name': 'vidbuduy', 'name': 'Гаряча, ... NaN NaN NaN NaN  \n9  [{'screen_name': 'neo1001101', 'name': '⚗️', '... NaN NaN NaN NaN  \n\n[10 rows x 36 columns]",
      "text/html": "<div>\n<style scoped>\n    .dataframe tbody tr th:only-of-type {\n        vertical-align: middle;\n    }\n\n    .dataframe tbody tr th {\n        vertical-align: top;\n    }\n\n    .dataframe thead th {\n        text-align: right;\n    }\n</style>\n<table border=\"1\" class=\"dataframe\">\n  <thead>\n    <tr style=\"text-align: right;\">\n      <th></th>\n      <th>0</th>\n      <th>1</th>\n      <th>2</th>\n      <th>3</th>\n      <th>4</th>\n      <th>5</th>\n      <th>6</th>\n      <th>7</th>\n      <th>8</th>\n      <th>9</th>\n      <th>...</th>\n      <th>26</th>\n      <th>27</th>\n      <th>28</th>\n      <th>29</th>\n      <th>30</th>\n      <th>31</th>\n      <th>32</th>\n      <th>33</th>\n      <th>34</th>\n      <th>35</th>\n    </tr>\n  </thead>\n  <tbody>\n    <tr>\n      <th>0</th>\n      <td>1557356517166301188</td>\n      <td>1557354587291619330</td>\n      <td>2022-08-10 16:21:42 EEST</td>\n      <td>2022-08-10</td>\n      <td>16:21:42</td>\n      <td>300</td>\n      <td>494057016</td>\n      <td>barbosiki</td>\n      <td>Ксеня</td>\n      <td>NaN</td>\n      <td>...</td>\n      <td>NaN</td>\n      <td>NaN</td>\n      <td>NaN</td>\n      <td>NaN</td>\n      <td>NaN</td>\n      <td>[{'screen_name': 'saver_ag', 'name': 'внутрішн...</td>\n      <td>NaN</td>\n      <td>NaN</td>\n      <td>NaN</td>\n      <td>NaN</td>\n    </tr>\n    <tr>\n      <th>1</th>\n      <td>1557356395351232513</td>\n      <td>1557303795155075072</td>\n      <td>2022-08-10 16:21:13 EEST</td>\n      <td>2022-08-10</td>\n      <td>16:21:13</td>\n      <td>300</td>\n      <td>627130715</td>\n      <td>alloizovic</td>\n      <td>buzzzzzzzz!</td>\n      <td>NaN</td>\n      <td>...</td>\n      <td>NaN</td>\n      <td>NaN</td>\n      <td>NaN</td>\n      <td>NaN</td>\n      <td>NaN</td>\n      <td>[{'screen_name': 'vodenergetik', 'name': 'Алён...</td>\n      <td>NaN</td>\n      <td>NaN</td>\n      <td>NaN</td>\n      <td>NaN</td>\n    </tr>\n    <tr>\n      <th>2</th>\n      <td>1557356366108524545</td>\n      <td>1557354632044748807</td>\n      <td>2022-08-10 16:21:06 EEST</td>\n      <td>2022-08-10</td>\n      <td>16:21:06</td>\n      <td>300</td>\n      <td>1509905263578525718</td>\n      <td>_boffin_</td>\n      <td>Boffin</td>\n      <td>NaN</td>\n      <td>...</td>\n      <td>NaN</td>\n      <td>NaN</td>\n      <td>NaN</td>\n      <td>NaN</td>\n      <td>NaN</td>\n      <td>[{'screen_name': 'MelaniePodolyak', 'name': 'M...</td>\n      <td>NaN</td>\n      <td>NaN</td>\n      <td>NaN</td>\n      <td>NaN</td>\n    </tr>\n    <tr>\n      <th>3</th>\n      <td>1557356284063760385</td>\n      <td>1557356284063760385</td>\n      <td>2022-08-10 16:20:47 EEST</td>\n      <td>2022-08-10</td>\n      <td>16:20:47</td>\n      <td>300</td>\n      <td>1377429469</td>\n      <td>meilinjie</td>\n      <td>🌻girasol🌻</td>\n      <td>NaN</td>\n      <td>...</td>\n      <td>NaN</td>\n      <td>NaN</td>\n      <td>NaN</td>\n      <td>NaN</td>\n      <td>NaN</td>\n      <td>[]</td>\n      <td>NaN</td>\n      <td>NaN</td>\n      <td>NaN</td>\n      <td>NaN</td>\n    </tr>\n    <tr>\n      <th>4</th>\n      <td>1557356122264190977</td>\n      <td>1557356122264190977</td>\n      <td>2022-08-10 16:20:08 EEST</td>\n      <td>2022-08-10</td>\n      <td>16:20:08</td>\n      <td>300</td>\n      <td>1270581277779988483</td>\n      <td>marxoid1848</td>\n      <td>🇬🇧</td>\n      <td>NaN</td>\n      <td>...</td>\n      <td>NaN</td>\n      <td>NaN</td>\n      <td>NaN</td>\n      <td>NaN</td>\n      <td>NaN</td>\n      <td>[]</td>\n      <td>NaN</td>\n      <td>NaN</td>\n      <td>NaN</td>\n      <td>NaN</td>\n    </tr>\n    <tr>\n      <th>5</th>\n      <td>1557356121492525056</td>\n      <td>1557356121492525056</td>\n      <td>2022-08-10 16:20:08 EEST</td>\n      <td>2022-08-10</td>\n      <td>16:20:08</td>\n      <td>300</td>\n      <td>2233213154</td>\n      <td>baldgivitaly</td>\n      <td>Виталий Балджи</td>\n      <td>NaN</td>\n      <td>...</td>\n      <td>NaN</td>\n      <td>NaN</td>\n      <td>NaN</td>\n      <td>NaN</td>\n      <td>NaN</td>\n      <td>[]</td>\n      <td>NaN</td>\n      <td>NaN</td>\n      <td>NaN</td>\n      <td>NaN</td>\n    </tr>\n    <tr>\n      <th>6</th>\n      <td>1557356106778828800</td>\n      <td>1557300891786567681</td>\n      <td>2022-08-10 16:20:04 EEST</td>\n      <td>2022-08-10</td>\n      <td>16:20:04</td>\n      <td>300</td>\n      <td>254039945</td>\n      <td>unsergey</td>\n      <td>Zadunaiskiy</td>\n      <td>NaN</td>\n      <td>...</td>\n      <td>NaN</td>\n      <td>NaN</td>\n      <td>NaN</td>\n      <td>NaN</td>\n      <td>NaN</td>\n      <td>[{'screen_name': 'buch10_04', 'name': '10 квіт...</td>\n      <td>NaN</td>\n      <td>NaN</td>\n      <td>NaN</td>\n      <td>NaN</td>\n    </tr>\n    <tr>\n      <th>7</th>\n      <td>1557356098121879552</td>\n      <td>1557008845846757376</td>\n      <td>2022-08-10 16:20:02 EEST</td>\n      <td>2022-08-10</td>\n      <td>16:20:02</td>\n      <td>300</td>\n      <td>3031355063</td>\n      <td>krizalium</td>\n      <td>Krizalium</td>\n      <td>NaN</td>\n      <td>...</td>\n      <td>NaN</td>\n      <td>NaN</td>\n      <td>NaN</td>\n      <td>NaN</td>\n      <td>NaN</td>\n      <td>[{'screen_name': 'OlgaEvans46', 'name': 'Olga'...</td>\n      <td>NaN</td>\n      <td>NaN</td>\n      <td>NaN</td>\n      <td>NaN</td>\n    </tr>\n    <tr>\n      <th>8</th>\n      <td>1557355989480898560</td>\n      <td>1557002414699470849</td>\n      <td>2022-08-10 16:19:36 EEST</td>\n      <td>2022-08-10</td>\n      <td>16:19:36</td>\n      <td>300</td>\n      <td>1498229249882443777</td>\n      <td>chechen_heart</td>\n      <td>FreeChechnyaNow</td>\n      <td>NaN</td>\n      <td>...</td>\n      <td>NaN</td>\n      <td>NaN</td>\n      <td>NaN</td>\n      <td>NaN</td>\n      <td>NaN</td>\n      <td>[{'screen_name': 'vidbuduy', 'name': 'Гаряча, ...</td>\n      <td>NaN</td>\n      <td>NaN</td>\n      <td>NaN</td>\n      <td>NaN</td>\n    </tr>\n    <tr>\n      <th>9</th>\n      <td>1557355981608189955</td>\n      <td>1557351055389650944</td>\n      <td>2022-08-10 16:19:34 EEST</td>\n      <td>2022-08-10</td>\n      <td>16:19:34</td>\n      <td>300</td>\n      <td>1330884405754257410</td>\n      <td>decayingoldone</td>\n      <td>🇺🇦lord mara van redrot (русня від‘їбись)🇺🇦</td>\n      <td>NaN</td>\n      <td>...</td>\n      <td>NaN</td>\n      <td>NaN</td>\n      <td>NaN</td>\n      <td>NaN</td>\n      <td>NaN</td>\n      <td>[{'screen_name': 'neo1001101', 'name': '⚗️', '...</td>\n      <td>NaN</td>\n      <td>NaN</td>\n      <td>NaN</td>\n      <td>NaN</td>\n    </tr>\n  </tbody>\n</table>\n<p>10 rows × 36 columns</p>\n</div>"
     },
     "execution_count": 11,
     "metadata": {},
     "output_type": "execute_result"
    }
   ],
   "source": [
    "tweets.head(10)"
   ],
   "metadata": {
    "collapsed": false,
    "pycharm": {
     "name": "#%%\n"
    }
   }
  },
  {
   "cell_type": "code",
   "execution_count": 13,
   "outputs": [],
   "source": [
    "dehumanisation = pd.read_csv('data/dehumanisation.csv', header=None)"
   ],
   "metadata": {
    "collapsed": false,
    "pycharm": {
     "name": "#%%\n"
    }
   }
  },
  {
   "cell_type": "code",
   "execution_count": 14,
   "outputs": [
    {
     "data": {
      "text/plain": "                    0                    1                         2   \\\n0  1557412439242727427  1557128400703299585  2022-08-10 20:03:55 EEST   \n1  1557411953949171715  1557411953949171715  2022-08-10 20:01:59 EEST   \n2  1557409143010516992  1557409143010516992  2022-08-10 19:50:49 EEST   \n3  1557404313529438209  1556431260863680514  2022-08-10 19:31:38 EEST   \n4  1557402614261760002  1557402614261760002  2022-08-10 19:24:53 EEST   \n5  1557395696352993285  1557368201029292032  2022-08-10 18:57:23 EEST   \n6  1557389997971488768  1557329057959870465  2022-08-10 18:34:45 EEST   \n7  1557387758770987010  1557383970429493249  2022-08-10 18:25:51 EEST   \n8  1557386724837363712  1557386724837363712  2022-08-10 18:21:44 EEST   \n9  1557381559988150276  1557381559988150276  2022-08-10 18:01:13 EEST   \n\n           3         4    5                    6               7   \\\n0  2022-08-10  20:03:55  300            362862491       enjoyhifi   \n1  2022-08-10  20:01:59  300  1533264454816776192    steppehippus   \n2  2022-08-10  19:50:49  300   929857694500048896       mxmsworld   \n3  2022-08-10  19:31:38  300  1098291654933577729         seb_81_   \n4  2022-08-10  19:24:53  300  1096408553458409477       siyhlophe   \n5  2022-08-10  18:57:23  300           1491024822      pobanerjee   \n6  2022-08-10  18:34:45  300  1285246053441306624     free_musick   \n7  2022-08-10  18:25:51  300           2153097126       debesscab   \n8  2022-08-10  18:21:44  300  1156293309410807808  thoughtandthot   \n9  2022-08-10  18:01:13  300  1517527261007724547    evelyn_dench   \n\n                                                 8   9   ...  26  27  28  29  \\\n0                                          🇺🇦🇬🇧🇪🇺🔉🔉 NaN  ... NaN NaN NaN NaN   \n1                                      steppehippus NaN  ... NaN NaN NaN NaN   \n2                            Lufthansa hate account NaN  ... NaN NaN NaN NaN   \n3                                               Seb NaN  ... NaN NaN NaN NaN   \n4                                         Siyabonga NaN  ... NaN NaN NaN NaN   \n5                                      Jay Banerjee NaN  ... NaN NaN NaN NaN   \n6                                      Helena Celle NaN  ... NaN NaN NaN NaN   \n7                                        Debess Cab NaN  ... NaN NaN NaN NaN   \n8                        Dr аумаn •أَيْمَن 𖧷 🇵🇸🇾🇪 ☭ NaN  ... NaN NaN NaN NaN   \n9  Stop Mind Control by Evelyn Dench #Bromley #Kent NaN  ... NaN NaN NaN NaN   \n\n   30                                                 31  32  33  34  35  \n0 NaN  [{'screen_name': 'AkinAjanaku', 'name': 'Akin ... NaN NaN NaN NaN  \n1 NaN                                                 [] NaN NaN NaN NaN  \n2 NaN                                                 [] NaN NaN NaN NaN  \n3 NaN  [{'screen_name': 'StrawbrryCatboy', 'name': 'C... NaN NaN NaN NaN  \n4 NaN                                                 [] NaN NaN NaN NaN  \n5 NaN  [{'screen_name': 'openDemocracy', 'name': 'ope... NaN NaN NaN NaN  \n6 NaN  [{'screen_name': 'SnakeHedd', 'name': 'Snake H... NaN NaN NaN NaN  \n7 NaN  [{'screen_name': 'feduprepublica1', 'name': '#... NaN NaN NaN NaN  \n8 NaN                                                 [] NaN NaN NaN NaN  \n9 NaN                                                 [] NaN NaN NaN NaN  \n\n[10 rows x 36 columns]",
      "text/html": "<div>\n<style scoped>\n    .dataframe tbody tr th:only-of-type {\n        vertical-align: middle;\n    }\n\n    .dataframe tbody tr th {\n        vertical-align: top;\n    }\n\n    .dataframe thead th {\n        text-align: right;\n    }\n</style>\n<table border=\"1\" class=\"dataframe\">\n  <thead>\n    <tr style=\"text-align: right;\">\n      <th></th>\n      <th>0</th>\n      <th>1</th>\n      <th>2</th>\n      <th>3</th>\n      <th>4</th>\n      <th>5</th>\n      <th>6</th>\n      <th>7</th>\n      <th>8</th>\n      <th>9</th>\n      <th>...</th>\n      <th>26</th>\n      <th>27</th>\n      <th>28</th>\n      <th>29</th>\n      <th>30</th>\n      <th>31</th>\n      <th>32</th>\n      <th>33</th>\n      <th>34</th>\n      <th>35</th>\n    </tr>\n  </thead>\n  <tbody>\n    <tr>\n      <th>0</th>\n      <td>1557412439242727427</td>\n      <td>1557128400703299585</td>\n      <td>2022-08-10 20:03:55 EEST</td>\n      <td>2022-08-10</td>\n      <td>20:03:55</td>\n      <td>300</td>\n      <td>362862491</td>\n      <td>enjoyhifi</td>\n      <td>🇺🇦🇬🇧🇪🇺🔉🔉</td>\n      <td>NaN</td>\n      <td>...</td>\n      <td>NaN</td>\n      <td>NaN</td>\n      <td>NaN</td>\n      <td>NaN</td>\n      <td>NaN</td>\n      <td>[{'screen_name': 'AkinAjanaku', 'name': 'Akin ...</td>\n      <td>NaN</td>\n      <td>NaN</td>\n      <td>NaN</td>\n      <td>NaN</td>\n    </tr>\n    <tr>\n      <th>1</th>\n      <td>1557411953949171715</td>\n      <td>1557411953949171715</td>\n      <td>2022-08-10 20:01:59 EEST</td>\n      <td>2022-08-10</td>\n      <td>20:01:59</td>\n      <td>300</td>\n      <td>1533264454816776192</td>\n      <td>steppehippus</td>\n      <td>steppehippus</td>\n      <td>NaN</td>\n      <td>...</td>\n      <td>NaN</td>\n      <td>NaN</td>\n      <td>NaN</td>\n      <td>NaN</td>\n      <td>NaN</td>\n      <td>[]</td>\n      <td>NaN</td>\n      <td>NaN</td>\n      <td>NaN</td>\n      <td>NaN</td>\n    </tr>\n    <tr>\n      <th>2</th>\n      <td>1557409143010516992</td>\n      <td>1557409143010516992</td>\n      <td>2022-08-10 19:50:49 EEST</td>\n      <td>2022-08-10</td>\n      <td>19:50:49</td>\n      <td>300</td>\n      <td>929857694500048896</td>\n      <td>mxmsworld</td>\n      <td>Lufthansa hate account</td>\n      <td>NaN</td>\n      <td>...</td>\n      <td>NaN</td>\n      <td>NaN</td>\n      <td>NaN</td>\n      <td>NaN</td>\n      <td>NaN</td>\n      <td>[]</td>\n      <td>NaN</td>\n      <td>NaN</td>\n      <td>NaN</td>\n      <td>NaN</td>\n    </tr>\n    <tr>\n      <th>3</th>\n      <td>1557404313529438209</td>\n      <td>1556431260863680514</td>\n      <td>2022-08-10 19:31:38 EEST</td>\n      <td>2022-08-10</td>\n      <td>19:31:38</td>\n      <td>300</td>\n      <td>1098291654933577729</td>\n      <td>seb_81_</td>\n      <td>Seb</td>\n      <td>NaN</td>\n      <td>...</td>\n      <td>NaN</td>\n      <td>NaN</td>\n      <td>NaN</td>\n      <td>NaN</td>\n      <td>NaN</td>\n      <td>[{'screen_name': 'StrawbrryCatboy', 'name': 'C...</td>\n      <td>NaN</td>\n      <td>NaN</td>\n      <td>NaN</td>\n      <td>NaN</td>\n    </tr>\n    <tr>\n      <th>4</th>\n      <td>1557402614261760002</td>\n      <td>1557402614261760002</td>\n      <td>2022-08-10 19:24:53 EEST</td>\n      <td>2022-08-10</td>\n      <td>19:24:53</td>\n      <td>300</td>\n      <td>1096408553458409477</td>\n      <td>siyhlophe</td>\n      <td>Siyabonga</td>\n      <td>NaN</td>\n      <td>...</td>\n      <td>NaN</td>\n      <td>NaN</td>\n      <td>NaN</td>\n      <td>NaN</td>\n      <td>NaN</td>\n      <td>[]</td>\n      <td>NaN</td>\n      <td>NaN</td>\n      <td>NaN</td>\n      <td>NaN</td>\n    </tr>\n    <tr>\n      <th>5</th>\n      <td>1557395696352993285</td>\n      <td>1557368201029292032</td>\n      <td>2022-08-10 18:57:23 EEST</td>\n      <td>2022-08-10</td>\n      <td>18:57:23</td>\n      <td>300</td>\n      <td>1491024822</td>\n      <td>pobanerjee</td>\n      <td>Jay Banerjee</td>\n      <td>NaN</td>\n      <td>...</td>\n      <td>NaN</td>\n      <td>NaN</td>\n      <td>NaN</td>\n      <td>NaN</td>\n      <td>NaN</td>\n      <td>[{'screen_name': 'openDemocracy', 'name': 'ope...</td>\n      <td>NaN</td>\n      <td>NaN</td>\n      <td>NaN</td>\n      <td>NaN</td>\n    </tr>\n    <tr>\n      <th>6</th>\n      <td>1557389997971488768</td>\n      <td>1557329057959870465</td>\n      <td>2022-08-10 18:34:45 EEST</td>\n      <td>2022-08-10</td>\n      <td>18:34:45</td>\n      <td>300</td>\n      <td>1285246053441306624</td>\n      <td>free_musick</td>\n      <td>Helena Celle</td>\n      <td>NaN</td>\n      <td>...</td>\n      <td>NaN</td>\n      <td>NaN</td>\n      <td>NaN</td>\n      <td>NaN</td>\n      <td>NaN</td>\n      <td>[{'screen_name': 'SnakeHedd', 'name': 'Snake H...</td>\n      <td>NaN</td>\n      <td>NaN</td>\n      <td>NaN</td>\n      <td>NaN</td>\n    </tr>\n    <tr>\n      <th>7</th>\n      <td>1557387758770987010</td>\n      <td>1557383970429493249</td>\n      <td>2022-08-10 18:25:51 EEST</td>\n      <td>2022-08-10</td>\n      <td>18:25:51</td>\n      <td>300</td>\n      <td>2153097126</td>\n      <td>debesscab</td>\n      <td>Debess Cab</td>\n      <td>NaN</td>\n      <td>...</td>\n      <td>NaN</td>\n      <td>NaN</td>\n      <td>NaN</td>\n      <td>NaN</td>\n      <td>NaN</td>\n      <td>[{'screen_name': 'feduprepublica1', 'name': '#...</td>\n      <td>NaN</td>\n      <td>NaN</td>\n      <td>NaN</td>\n      <td>NaN</td>\n    </tr>\n    <tr>\n      <th>8</th>\n      <td>1557386724837363712</td>\n      <td>1557386724837363712</td>\n      <td>2022-08-10 18:21:44 EEST</td>\n      <td>2022-08-10</td>\n      <td>18:21:44</td>\n      <td>300</td>\n      <td>1156293309410807808</td>\n      <td>thoughtandthot</td>\n      <td>Dr аумаn •أَيْمَن 𖧷 🇵🇸🇾🇪 ☭</td>\n      <td>NaN</td>\n      <td>...</td>\n      <td>NaN</td>\n      <td>NaN</td>\n      <td>NaN</td>\n      <td>NaN</td>\n      <td>NaN</td>\n      <td>[]</td>\n      <td>NaN</td>\n      <td>NaN</td>\n      <td>NaN</td>\n      <td>NaN</td>\n    </tr>\n    <tr>\n      <th>9</th>\n      <td>1557381559988150276</td>\n      <td>1557381559988150276</td>\n      <td>2022-08-10 18:01:13 EEST</td>\n      <td>2022-08-10</td>\n      <td>18:01:13</td>\n      <td>300</td>\n      <td>1517527261007724547</td>\n      <td>evelyn_dench</td>\n      <td>Stop Mind Control by Evelyn Dench #Bromley #Kent</td>\n      <td>NaN</td>\n      <td>...</td>\n      <td>NaN</td>\n      <td>NaN</td>\n      <td>NaN</td>\n      <td>NaN</td>\n      <td>NaN</td>\n      <td>[]</td>\n      <td>NaN</td>\n      <td>NaN</td>\n      <td>NaN</td>\n      <td>NaN</td>\n    </tr>\n  </tbody>\n</table>\n<p>10 rows × 36 columns</p>\n</div>"
     },
     "execution_count": 14,
     "metadata": {},
     "output_type": "execute_result"
    }
   ],
   "source": [
    "dehumanisation.head(10)"
   ],
   "metadata": {
    "collapsed": false,
    "pycharm": {
     "name": "#%%\n"
    }
   }
  },
  {
   "cell_type": "code",
   "execution_count": 28,
   "outputs": [
    {
     "data": {
      "text/plain": "242    @cowpetter @bookwyrm102571 @cathworkingmom Pre...\n9      Listen to the lyrics of this song. It will res...\n327    Karl Bartos: ‘Kraftwerk turned into the dehuma...\n461    @JackieFrancesca @Aborti0nRights @Janemarch888...\n129    We will never forget how they contributed to t...\n494    @AugustWest1222 @StandWithUs @yadvashem God ju...\n294    Karl Bartos: ‘Kraftwerk turned into the dehuma...\n65     The Soviets outlawed tipping as they abhorred ...\n394    Karl Bartos: ‘Kraftwerk turned into the dehuma...\n158    LRT good point but recall the industrial revol...\n275    @AmericanEbonie @JournalistJill @jack_turban M...\n366     https://t.co/oWN36mBO7K Karl Bartos: ‘Kraftwe...\n12     i need to draw this to calm my pet peeve re ce...\n501    @harlockspacepi1 @Will22193959 @Abdulla5850242...\n315    @thegirlwhosucks you are not \"happy\" your brai...\n125    i was so beyond kill all men misandry feminism...\n350    Freedom doesn't mean only securing material sa...\n160    @__YTSiRK @Shamar_Ezer @momanoms2 @DermotKearn...\n56     @Dinobun1 @WeAreFairCop @HarryTheOwl101 @BadLa...\n344    Indian women carrying a British man during the...\nName: 10, dtype: object"
     },
     "execution_count": 28,
     "metadata": {},
     "output_type": "execute_result"
    }
   ],
   "source": [
    "dehumanisation[10].sample(20)"
   ],
   "metadata": {
    "collapsed": false,
    "pycharm": {
     "name": "#%%\n"
    }
   }
  }
 ],
 "metadata": {
  "kernelspec": {
   "display_name": "Python 3",
   "language": "python",
   "name": "python3"
  },
  "language_info": {
   "codemirror_mode": {
    "name": "ipython",
    "version": 2
   },
   "file_extension": ".py",
   "mimetype": "text/x-python",
   "name": "python",
   "nbconvert_exporter": "python",
   "pygments_lexer": "ipython2",
   "version": "2.7.6"
  }
 },
 "nbformat": 4,
 "nbformat_minor": 0
}